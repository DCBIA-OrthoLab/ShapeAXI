{
 "cells": [
  {
   "cell_type": "code",
   "execution_count": null,
   "metadata": {},
   "outputs": [
    {
     "ename": "",
     "evalue": "",
     "output_type": "error",
     "traceback": [
      "\u001b[1;31mRunning cells with 'Python 3.10.5' requires the ipykernel package.\n",
      "\u001b[1;31mRun the following command to install 'ipykernel' into the Python environment. \n",
      "\u001b[1;31mCommand: '/opt/local/bin/python3.10 -m pip install ipykernel -U --user --force-reinstall'"
     ]
    }
   ],
   "source": [
    "import torch\n",
    "from torch.utils.data import DataLoader\n",
    "import pytorch3d\n",
    "import sys\n",
    "\n",
    "import pandas as pd \n",
    "\n",
    "from shapeaxi import saxi_nets\n",
    "from shapeaxi import saxi_dataset\n",
    "from shapeaxi import saxi_dataset\n",
    "from shapeaxi import saxi_transforms\n",
    "\n",
    "import plotly.express as px\n",
    "\n",
    "from pytorch3d.structures import Meshes d\n",
    "from pytorch3d.renderer import (\n",
    "        FoVPerspectiveCameras, look_at_view_transform, look_at_rotation, \n",
    "        RasterizationSettings, MeshRenderer, MeshRasterizer, MeshRendererWithFragments, BlendParams,\n",
    "        SoftSilhouetteShader, HardPhongShader, SoftPhongShader, AmbientLights, PointLights, TexturesUV, TexturesVertex, TexturesAtlas\n",
    ")"
   ]
  },
  {
   "cell_type": "code",
   "execution_count": null,
   "metadata": {},
   "outputs": [],
   "source": [
    "# model = saxi_nets.SaxiRingClassification(subdivision_level=3, out_classes=3, radius=1.1, hidden_dim=512, out_size=128, dropout_lvl=0.2, image_size=224, base_encoder=\"ViT\", base_encoder_params=\"in_channels=4, img_size=(224,224), patch_size=(16,16),spatial_dims=2\")\n",
    "model = saxi_nets.SaxiRingClassification(subdivision_level=1, out_classes=3, radius=1.05, hidden_dim=512, out_size=128, dropout_lvl=0.2, image_size=224, base_encoder=\"resnet18\", base_encoder_params=\"pretrained=False,spatial_dims=2,n_input_channels=4,num_classes=512\")\n",
    "model = model.to('cuda').eval()"
   ]
  },
  {
   "cell_type": "code",
   "execution_count": null,
   "metadata": {},
   "outputs": [],
   "source": [
    "ds = saxi_dataset.SaxiDataset(pd.read_csv('/CMF/data/lumargot/DCBIA/Airway_Obst_Classif_Sample/airway_4classes_train.csv'), transform=saxi_transforms.EvalTransform())"
   ]
  },
  {
   "cell_type": "code",
   "execution_count": null,
   "metadata": {},
   "outputs": [],
   "source": [
    "V, F, CN = ds[0]"
   ]
  },
  {
   "cell_type": "code",
   "execution_count": null,
   "metadata": {},
   "outputs": [],
   "source": [
    "\n",
    "def render(self, V, F, CN):\n",
    "    # Render the input surface mesh to an image\n",
    "    textures = TexturesVertex(verts_features=CN)\n",
    "    meshes = Meshes(verts=V, faces=F, textures=textures)\n",
    "    X = []\n",
    "    PF = []\n",
    "\n",
    "    for camera_position in self.ico_verts:\n",
    "        camera_position = camera_position.unsqueeze(0)\n",
    "        camera_position = camera_position.to(self.device)\n",
    "        R = look_at_rotation(camera_position, device=self.device)  # (1, 3, 3)\n",
    "        T = -torch.bmm(R.transpose(1, 2), camera_position[:,:,None])[:, :, 0]   # (1, 3)\n",
    "        images = self.renderer(meshes_world=meshes.clone(), R=R, T=T)\n",
    "        fragments = self.renderer.rasterizer(meshes.clone())\n",
    "        \n",
    "        pix_to_face = fragments.pix_to_face\n",
    "        zbuf = fragments.zbuf\n",
    "\n",
    "        v = V[:,F[:,pix_to_face][:,:,:,:,:,0]].squeeze(dim=5).squeeze(dim=1).squeeze(dim=1)\n",
    "        \n",
    "        z_buf_n = torch.square(v - camera_position).sum(dim=-1).unsqueeze(-1)\n",
    "\n",
    "        images = torch.cat([images[:,:,:,0:3], z_buf_n], dim=-1)\n",
    "        \n",
    "        images = images.permute(0,3,1,2)\n",
    "        pix_to_face = pix_to_face.permute(0,3,1,2)\n",
    "        \n",
    "        X.append(images.unsqueeze(1))\n",
    "        PF.append(pix_to_face.unsqueeze(1))\n",
    "    \n",
    "    X = torch.cat(X, dim=1)\n",
    "    PF = torch.cat(PF, dim=1)\n",
    "\n",
    "    return X, PF\n",
    "\n",
    "X, PF = render(model, V.unsqueeze(0).cuda(), F.unsqueeze(0).cuda(), CN.unsqueeze(0).cuda())\n",
    "\n",
    "px.imshow(X[0,:,3:].permute(0,2,3,1).squeeze().cpu().numpy(), animation_frame=0)\n",
    "\n",
    "# px.imshow(, animation_frame=0)"
   ]
  },
  {
   "cell_type": "code",
   "execution_count": null,
   "metadata": {},
   "outputs": [],
   "source": [
    "torch.cuda.empty_cache()"
   ]
  }
 ],
 "metadata": {
  "kernelspec": {
   "display_name": "Python 3 (ipykernel)",
   "language": "python",
   "name": "python3"
  }
 },
 "nbformat": 4,
 "nbformat_minor": 2
}

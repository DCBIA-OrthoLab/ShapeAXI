{
 "cells": [
  {
   "cell_type": "code",
   "execution_count": null,
   "metadata": {},
   "outputs": [],
   "source": [
    "import os\n",
    "import torch\n",
    "from torch import nn\n",
    "from pytorch3d.io import load_obj, save_obj\n",
    "from pytorch3d.structures import Meshes\n",
    "from pytorch3d.utils import ico_sphere\n",
    "from pytorch3d.ops import sample_points_from_meshes, knn_points, knn_gather\n",
    "from pytorch3d.loss import (\n",
    "    chamfer_distance, \n",
    "    mesh_edge_loss, \n",
    "    mesh_laplacian_smoothing, \n",
    "    mesh_normal_consistency,\n",
    ")\n",
    "import numpy as np\n",
    "from tqdm.notebook import tqdm\n",
    "import plotly.graph_objects as go\n",
    "import plotly.express as px\n",
    "\n",
    "import sys\n",
    "sys.path.append('/mnt/raid/C1_ML_Analysis/source/ShapeAXI')\n",
    "from shapeaxi import utils\n",
    "from shapeaxi.saxi_layers import TimeDistributed, MHA, Residual, FeedForward, UnpoolMHA, SmoothAttention, SmoothMHA\n",
    "from shapeaxi.saxi_nets import SaxiMHAEncoder\n",
    "import pandas as pd"
   ]
  },
  {
   "cell_type": "code",
   "execution_count": null,
   "metadata": {},
   "outputs": [],
   "source": [
    "device = torch.device(\"cuda:0\")\n"
   ]
  },
  {
   "cell_type": "code",
   "execution_count": null,
   "metadata": {},
   "outputs": [],
   "source": [
    "target_fn = '/mnt/famli_netapp_shared/C1_ML_Analysis/src/diffusion-models/blender/studies/placenta/FAM-025-0499-5/brain/leftWhiteMatter.stl'\n",
    "target = utils.ReadSurf(target_fn)\n",
    "target, target_mean_bb, target_scale_factor = utils.ScaleSurf(target)\n",
    "target_v, target_f, target_e = utils.PolyDataToTensors(target, device=device)\n",
    "target_mesh = Meshes(verts=[target_v], faces=[target_f])"
   ]
  },
  {
   "cell_type": "code",
   "execution_count": null,
   "metadata": {},
   "outputs": [],
   "source": [
    "def plot_pointcloud(mesh, title=\"\"):\n",
    "    points = sample_points_from_meshes(mesh, 5000)\n",
    "    x, y, z = points.clone().detach().cpu().squeeze().unbind(1)    \n",
    "    fig = go.Figure(data=[go.Scatter3d(x=x, y=y, z=z)])\n",
    "    fig.show()"
   ]
  },
  {
   "cell_type": "code",
   "execution_count": null,
   "metadata": {},
   "outputs": [],
   "source": [
    "sample_levels = []\n",
    "sample_levels_faces = []\n",
    "for l in range(6, 1, -1):\n",
    "    ico_s = utils.IcoSphere(l)\n",
    "    source_v, source_f = utils.PolyDataToTensors_v_f(ico_s)\n",
    "    sample_levels.append(len(source_v))\n",
    "    sample_levels_faces.append(len(source_f))"
   ]
  },
  {
   "cell_type": "code",
   "execution_count": null,
   "metadata": {},
   "outputs": [],
   "source": [
    "model = SaxiMHAEncoder()\n",
    "model = model.to(device)\n",
    "target_mesh = Meshes(verts=[target_v.cuda()], faces=[target_f.cuda()])\n",
    "target_mesh_encoded = model(target_mesh.cuda())"
   ]
  },
  {
   "cell_type": "code",
   "execution_count": null,
   "metadata": {},
   "outputs": [],
   "source": [
    "\n",
    "\n",
    "class SaxiMHADecoder(nn.Module):\n",
    "    def __init__(self, input_dim=256, L=4, embed_dim=128, output_dim=3, num_heads=4,  K=4, hidden_dim=64, dropout=0.1, return_sorted=True):\n",
    "        super(SaxiMHADecoder, self).__init__()\n",
    "\n",
    "        self.input_dim = input_dim\n",
    "        self.L = L\n",
    "        self.K = K\n",
    "        self.embed_dim = embed_dim\n",
    "        self.num_heads = num_heads        \n",
    "        self.hidden_dim = hidden_dim\n",
    "        self.dropout = dropout\n",
    "        self.return_sorted = return_sorted\n",
    "\n",
    "        self.embedding = nn.Linear(input_dim, embed_dim)\n",
    "\n",
    "        self.unpool = UnpoolMHA()\n",
    "\n",
    "        for i in range(self.L):\n",
    "            mha = MHA(embed_dim, num_heads, dropout)\n",
    "            mha_td = TimeDistributed(mha)\n",
    "            setattr(self, f'mha_td{i}', mha_td)\n",
    "            setattr(self, f'residual_mha_td{i}', Residual(mha_td, dimension=embed_dim))\n",
    "\n",
    "            ff = FeedForward(embed_dim, hidden_dim, dropout)\n",
    "            setattr(self, f'ff{i}', ff)\n",
    "            setattr(self, f'residual_ff{i}', Residual(ff, dimension=embed_dim))\n",
    "\n",
    "            \n",
    "            setattr(self, f'smooth{i}', SmoothMHA(self.embed_dim, self.hidden_dim, K=self.K))\n",
    "        \n",
    "        self.output = nn.Linear(embed_dim, output_dim)\n",
    "    \n",
    "    def sample_points(self, x, Ns):\n",
    "        \"\"\"\n",
    "        Samples Ns points from each batch in a tensor of shape (Bs, N, F).\n",
    "\n",
    "        Args:\n",
    "            x (torch.Tensor): Input tensor of shape (Bs, N, F).\n",
    "            Ns (int): Number of points to sample from each batch.\n",
    "\n",
    "        Returns:\n",
    "            torch.Tensor: Output tensor of shape (Bs, Ns, F).\n",
    "        \"\"\"\n",
    "        Bs, N, F = x.shape\n",
    "\n",
    "        # Generate random indices for sampling\n",
    "        indices = torch.randint(low=0, high=N, size=(Bs, Ns), device=x.device).unsqueeze(-1)\n",
    "\n",
    "        # Gather the sampled points\n",
    "        x = knn_gather(x, indices).squeeze(-2).contiguous()\n",
    "\n",
    "        return x, indices\n",
    "        \n",
    "    def forward(self, x):\n",
    "        \n",
    "        x = self.embedding(x)\n",
    "\n",
    "        for i in range(self.L):\n",
    "\n",
    "            # find closest points to self, i.e., each point in the sample finds the closest K points in the sample\n",
    "            # dists = knn_points(x_sampled, x_sampled, K=6)\n",
    "            dists = knn_points(x, x, K=self.K, return_sorted=self.return_sorted)\n",
    "            x = knn_gather(x, dists.idx)\n",
    "\n",
    "            x = getattr(self, f'residual_mha_td{i}')(x)\n",
    "            x = getattr(self, f'residual_ff{i}')(x)\n",
    "            ## reduce x in the time dim\n",
    "            x = self.unpool(x)\n",
    "            x = getattr(self, f'smooth{i}')(x)\n",
    "            \n",
    "        x = self.output(x)\n",
    "        return x\n",
    "\n",
    "decoder = SaxiMHADecoder()\n",
    "decoder = decoder.cuda()\n",
    "X_hat = decoder(target_mesh_encoded)"
   ]
  },
  {
   "cell_type": "code",
   "execution_count": null,
   "metadata": {},
   "outputs": [],
   "source": [
    "target_mesh.verts_padded().shape"
   ]
  },
  {
   "cell_type": "code",
   "execution_count": null,
   "metadata": {},
   "outputs": [],
   "source": []
  }
 ],
 "metadata": {
  "kernelspec": {
   "display_name": "Python 3 (ipykernel)",
   "language": "python",
   "name": "python3"
  },
  "language_info": {
   "codemirror_mode": {
    "name": "ipython",
    "version": 3
   },
   "file_extension": ".py",
   "mimetype": "text/x-python",
   "name": "python",
   "nbconvert_exporter": "python",
   "pygments_lexer": "ipython3",
   "version": "3.10.0"
  }
 },
 "nbformat": 4,
 "nbformat_minor": 2
}

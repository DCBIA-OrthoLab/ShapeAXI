{
 "cells": [
  {
   "cell_type": "code",
   "execution_count": null,
   "metadata": {},
   "outputs": [],
   "source": [
    "import os\n",
    "import torch\n",
    "from torch import nn\n",
    "from pytorch3d.ops import sample_points_from_meshes\n",
    "import numpy as np\n",
    "\n",
    "import plotly.graph_objects as go\n",
    "import plotly.express as px\n",
    "from pytorch3d.vis.plotly_vis import plot_scene\n",
    "from pytorch3d.structures import (\n",
    "    Meshes,\n",
    "    Pointclouds,)\n",
    "    \n",
    "import sys\n",
    "sys.path.append('/mnt/raid/C1_ML_Analysis/source/ShapeAXI/src')\n",
    "from shapeaxi.saxi_dataset import SaxiDataModuleVF\n",
    "import pandas as pd"
   ]
  },
  {
   "cell_type": "code",
   "execution_count": null,
   "metadata": {},
   "outputs": [],
   "source": [
    "batch_size = 4\n",
    "dm = SaxiDataModuleVF(\n",
    "    csv_train=\"/mnt/raid/C1_ML_Analysis/ShapeNetCore/shapenetcore_train_train.csv\",\n",
    "    csv_valid=\"/mnt/raid/C1_ML_Analysis/ShapeNetCore/shapenetcore_train_test.csv\",\n",
    "    csv_test=\"/mnt/raid/C1_ML_Analysis/ShapeNetCore/shapenetcore_test.csv\",\n",
    "    mount_point=\"/mnt/raid/C1_ML_Analysis/ShapeNetCore\",\n",
    "    batch_size=batch_size,\n",
    "    num_workers=1,\n",
    "    surf_column=\"surf\",\n",
    "    )\n",
    "dm.setup()"
   ]
  },
  {
   "cell_type": "code",
   "execution_count": null,
   "metadata": {},
   "outputs": [],
   "source": [
    "train_loader = dm.train_dataloader()"
   ]
  },
  {
   "cell_type": "code",
   "execution_count": null,
   "metadata": {},
   "outputs": [],
   "source": [
    "V, F = next(iter(train_loader))\n",
    "\n",
    "N = 10000\n",
    "mesh_batch = Meshes(verts=V, faces=F)\n",
    "\n",
    "P = sample_points_from_meshes(mesh_batch, N)\n",
    "\n",
    "pc_orig = Pointclouds(points=P)"
   ]
  },
  {
   "cell_type": "code",
   "execution_count": null,
   "metadata": {},
   "outputs": [],
   "source": [
    "orig_pc_d = {}\n",
    "for idx in range(V.shape[0]):\n",
    "    orig_pc_d[idx] = {idx: pc_orig[idx]}\n",
    "\n",
    "fig = plot_scene(\n",
    "    orig_pc_d,\n",
    "    ncols=batch_size\n",
    ")\n",
    "fig.show()"
   ]
  },
  {
   "cell_type": "code",
   "execution_count": null,
   "metadata": {},
   "outputs": [],
   "source": []
  }
 ],
 "metadata": {
  "kernelspec": {
   "display_name": "Python 3 (ipykernel)",
   "language": "python",
   "name": "python3"
  },
  "language_info": {
   "codemirror_mode": {
    "name": "ipython",
    "version": 3
   },
   "file_extension": ".py",
   "mimetype": "text/x-python",
   "name": "python",
   "nbconvert_exporter": "python",
   "pygments_lexer": "ipython3",
   "version": "3.10.14"
  }
 },
 "nbformat": 4,
 "nbformat_minor": 2
}

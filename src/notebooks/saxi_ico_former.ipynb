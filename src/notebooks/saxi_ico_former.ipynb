{
 "cells": [
  {
   "cell_type": "code",
   "execution_count": 1,
   "metadata": {},
   "outputs": [],
   "source": [
    "import os\n",
    "import torch\n",
    "from torch import nn\n",
    "from pytorch3d.io import load_obj, save_obj\n",
    "from pytorch3d.structures import Meshes\n",
    "from pytorch3d.utils import ico_sphere\n",
    "from pytorch3d.ops import sample_points_from_meshes, knn_points, knn_gather\n",
    "from pytorch3d.loss import (\n",
    "    chamfer_distance, \n",
    "    mesh_edge_loss, \n",
    "    mesh_laplacian_smoothing, \n",
    "    mesh_normal_consistency,\n",
    ")\n",
    "import numpy as np\n",
    "from tqdm.notebook import tqdm\n",
    "import plotly.graph_objects as go\n",
    "import plotly.express as px\n",
    "\n",
    "import sys\n",
    "sys.path.append('/mnt/raid/C1_ML_Analysis/source/ShapeAXI/src')\n",
    "from shapeaxi import utils\n",
    "\n",
    "from shapeaxi.saxi_nets import MHAIcoEncoder, MHAIcoDecoder\n",
    "import pandas as pd"
   ]
  },
  {
   "cell_type": "code",
   "execution_count": 2,
   "metadata": {},
   "outputs": [],
   "source": [
    "device = torch.device(\"cuda:0\")\n"
   ]
  },
  {
   "cell_type": "code",
   "execution_count": 3,
   "metadata": {},
   "outputs": [],
   "source": [
    "# target_fn = '/mnt/famli_netapp_shared/C1_ML_Analysis/src/diffusion-models/blender/studies/placenta/FAM-025-0499-5/brain/leftWhiteMatter.stl'\n",
    "# target = utils.ReadSurf(target_fn)\n",
    "# target, target_mean_bb, target_scale_factor = utils.ScaleSurf(target)\n",
    "# target_v, target_f, target_e = utils.PolyDataToTensors(target, device=device)\n",
    "# target_mesh = Meshes(verts=[target_v], faces=[target_f])"
   ]
  },
  {
   "cell_type": "code",
   "execution_count": 4,
   "metadata": {},
   "outputs": [],
   "source": [
    "def plot_pointcloud(mesh, title=\"\"):\n",
    "    points = sample_points_from_meshes(mesh, 5000)\n",
    "    x, y, z = points.clone().detach().cpu().squeeze().unbind(1)    \n",
    "    fig = go.Figure(data=[go.Scatter3d(x=x, y=y, z=z)])\n",
    "    fig.show()"
   ]
  },
  {
   "cell_type": "code",
   "execution_count": 5,
   "metadata": {},
   "outputs": [],
   "source": [
    "from importlib import reload\n",
    "reload(utils)\n",
    "\n",
    "\n",
    "ico_s = utils.IcoSphere(5)\n",
    "source_v, source_f = utils.PolyDataToTensors_v_f(ico_s)\n",
    "\n",
    "r_idx = torch.randint(0, len(source_v), (1,)).item()\n",
    "\n",
    "print(utils.GetNeighbors(ico_s, r_idx))\n",
    "print(utils.GetNeighborsT(source_f, r_idx))\n"
   ]
  },
  {
   "cell_type": "code",
   "execution_count": 8,
   "metadata": {},
   "outputs": [],
   "source": [
    "\n",
    "\n",
    "\n",
    "\n",
    "sample_levels=5\n",
    "model = MHAIcoEncoder(input_dim=4, sample_levels=sample_levels)\n",
    "\n",
    "model.to(device)\n",
    "\n",
    "\n",
    "N = ico_sphere(sample_levels).verts_packed().shape[0]\n",
    "\n",
    "x = torch.rand(1, N, 4).to(device)\n",
    "print(x.shape)\n",
    "\n",
    "y = model(x)\n",
    "print(y)\n",
    "\n"
   ]
  },
  {
   "cell_type": "code",
   "execution_count": 7,
   "metadata": {},
   "outputs": [],
   "source": [
    "\n",
    "\n",
    "model = MHAIcoDecoder(input_dim=4, output_dim=4, sample_levels=sample_levels)\n",
    "\n",
    "model.to(device)\n",
    "\n",
    "N = ico_sphere(0).verts_packed().shape[0]\n",
    "\n",
    "x = torch.rand(1, N, 4).to(device)\n",
    "\n",
    "y = model(x)\n",
    "print(y.shape)"
   ]
  },
  {
   "cell_type": "code",
   "execution_count": null,
   "metadata": {},
   "outputs": [],
   "source": []
  }
 ],
 "metadata": {
  "kernelspec": {
   "display_name": "Python 3 (ipykernel)",
   "language": "python",
   "name": "python3"
  }
 },
 "nbformat": 4,
 "nbformat_minor": 2
}

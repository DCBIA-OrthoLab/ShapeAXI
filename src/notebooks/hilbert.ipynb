{
 "cells": [
  {
   "cell_type": "code",
   "execution_count": null,
   "metadata": {},
   "outputs": [],
   "source": [
    "import os\n",
    "import torch\n",
    "\n",
    "from torch.utils.data import DataLoader, Dataset\n",
    "\n",
    "import numpy as np\n",
    "import plotly.graph_objects as go\n",
    "import plotly.express as px\n",
    "\n",
    "import sys\n",
    "sys.path.append('/mnt/raid/C1_ML_Analysis/source/ShapeAXI/src')\n",
    "\n",
    "import pandas as pd\n",
    "\n",
    "sys.path.append('/mnt/raid/C1_ML_Analysis/source/diffusion-point-cloud')\n",
    "\n",
    "from shapeaxi.saxi_dataset import ShapeNetCoreDataModule, SaxiDataModuleVF\n",
    "from shapeaxi import saxi_nets\n",
    "from shapeaxi.saxi_nets_lightning import SaxiFlowVAE\n",
    "from shapeaxi.saxi_layers import *\n",
    "from shapeaxi.saxi_flows import SaxiCouplingFlow\n",
    "from shapeaxi.saxi_diffusion import SaxiNoiseScheduler\n",
    "from shapeaxi.saxi_transforms import TrainTransform\n",
    "from shapeaxi import utils\n",
    "\n",
    "from pytorch3d.structures import (\n",
    "    Meshes,\n",
    "    Pointclouds,)\n",
    "\n",
    "from pytorch3d.ops import knn_points, knn_gather, sample_farthest_points\n",
    "\n",
    "from pytorch3d.vis.plotly_vis import plot_scene\n",
    "\n",
    "import argparse\n"
   ]
  },
  {
   "cell_type": "code",
   "execution_count": null,
   "metadata": {},
   "outputs": [],
   "source": [
    "device = torch.device(\"cuda:0\")\n"
   ]
  },
  {
   "cell_type": "code",
   "execution_count": null,
   "metadata": {},
   "outputs": [],
   "source": [
    "# pc = np.load('/mnt/raid/C1_ML_Analysis/simulated_data_export/skeletons_pc/FAM-025-0447-5_skeleton.npy')\n",
    "\n",
    "p = np.load('/mnt/raid/C1_ML_Analysis/simulated_data_export/studies_fetus.npy')\n",
    "p = TrainTransform()(torch.tensor(p))\n",
    "# p = torch.tensor(p)\n",
    "pc = Pointclouds(points=p[0:2])\n",
    "\n",
    "pc_d = {}\n",
    "for idx in range(len(pc.points_list())):\n",
    "    pc_d[idx] = {idx: pc[idx]}\n",
    "\n",
    "fig = plot_scene(\n",
    "    pc_d,\n",
    "    ncols=len(pc.points_list())\n",
    ")\n",
    "fig.show()"
   ]
  },
  {
   "cell_type": "code",
   "execution_count": null,
   "metadata": {},
   "outputs": [],
   "source": [
    "sys.path.append('/mnt/raid/C1_ML_Analysis/source/HilbertSort/src')\n",
    "import hilbertsort as hs\n",
    "from scipy.spatial import distance_matrix"
   ]
  },
  {
   "cell_type": "code",
   "execution_count": null,
   "metadata": {},
   "outputs": [],
   "source": [
    "# Parameters\n",
    "bins = 32\n",
    "radius = 1.25\n",
    "origin = (0,0,0)\n",
    "\n",
    "# Initiate Sorter\n",
    "sorter = hs.HilbertSort3D(origin=origin, radius=radius, bins=bins)\n",
    "\n",
    "p_sorted = sorter.sort(p[0])\n",
    "p_sorted.shape\n"
   ]
  },
  {
   "cell_type": "code",
   "execution_count": null,
   "metadata": {},
   "outputs": [],
   "source": [
    "p_rgb = torch.tensor(p_sorted).view(64, 64, 3).detach().cpu().numpy()\n",
    "p_rgb = p_rgb - p_rgb.min()\n",
    "p_rgb = p_rgb / p_rgb.max()\n",
    "px.imshow(p_rgb)"
   ]
  },
  {
   "cell_type": "code",
   "execution_count": null,
   "metadata": {},
   "outputs": [],
   "source": [
    "# class HilbertSort3D:\n",
    "#     def __init__(self, origin=(0.0, 0.0, 0.0), radius=1.0, bins=32):\n",
    "#         \"\"\"\n",
    "#         Initialize HilbertSort3D.\n",
    "#         :param origin: Tuple of floats, the origin point for the Hilbert sorting.\n",
    "#         :param radius: Float, radius of the space.\n",
    "#         :param bins: Int, number of bins (must be a power of 2).\n",
    "#         \"\"\"\n",
    "#         self.origin = torch.tensor(origin, dtype=torch.float32)\n",
    "#         self.radius = radius\n",
    "#         self.bins = bins\n",
    "#         self.curve = self._generate_hilbert_curve(bins)\n",
    "\n",
    "#     def _generate_hilbert_curve(self, bins):\n",
    "#         \"\"\"\n",
    "#         Generate the 3D Hilbert curve indices for given bins.\n",
    "#         Returns a tensor mapping bin (x, y, z) coordinates to their 1D Hilbert order.\n",
    "#         \"\"\"\n",
    "#         size = bins\n",
    "#         indices = torch.arange(size**3).view(size, size, size)\n",
    "#         return indices\n",
    "\n",
    "#     def sort(self, point_cloud):\n",
    "#         \"\"\"\n",
    "#         Sort a batch of point clouds using Hilbert sorting.\n",
    "#         :param point_cloud: Tensor of shape (B, N, 3), where B is batch size, N is number of points.\n",
    "#         :return: Sorted tensor of shape (B, N, 3).\n",
    "#         \"\"\"\n",
    "#         B, N, _ = point_cloud.shape\n",
    "\n",
    "#         # Center and normalize data\n",
    "#         point_cloud = point_cloud - self.origin\n",
    "#         bin_interval = (self.radius * 2) / self.bins\n",
    "#         bins = ((point_cloud / bin_interval) + (self.bins // 2)).long()\n",
    "#         bins = torch.clamp(bins, 0, self.bins - 1)\n",
    "\n",
    "#         # Flatten the bin coordinates into a 1D Hilbert index\n",
    "#         hilbert_indices = self.curve[bins[:, :, 0], bins[:, :, 1], bins[:, :, 2]]\n",
    "\n",
    "#         # Sort each batch of point clouds by their Hilbert indices\n",
    "#         sorted_indices = torch.argsort(hilbert_indices, dim=1)\n",
    "#         sorted_points = torch.gather(point_cloud, 1, sorted_indices.unsqueeze(-1).expand(-1, -1, 3))\n",
    "#         return sorted_points\n",
    "\n",
    "\n",
    "sorter_pt = saxi_nets.HilbertSort3D(radius=1.25, bins=64)\n",
    "\n",
    "p_sorted_pt = sorter_pt(p)[0]\n"
   ]
  },
  {
   "cell_type": "code",
   "execution_count": null,
   "metadata": {},
   "outputs": [],
   "source": [
    "p_rgb = p_sorted_pt.view(-1, 64, 64, 3).detach().cpu().numpy()\n",
    "p_rgb = p_rgb - p_rgb.min()\n",
    "p_rgb = p_rgb / p_rgb.max()\n",
    "px.imshow(p_rgb, binary_string=True, animation_frame=0)"
   ]
  },
  {
   "cell_type": "code",
   "execution_count": null,
   "metadata": {},
   "outputs": [],
   "source": [
    "p_rgb = p_sorted_pt.view(-1, 64, 64, 3).detach().cpu().numpy()\n",
    "p_rgb = p_rgb - p_rgb.min()\n",
    "p_rgb = p_rgb / p_rgb.max()\n",
    "px.imshow(p_rgb, binary_string=True, animation_frame=0)"
   ]
  },
  {
   "cell_type": "code",
   "execution_count": null,
   "metadata": {},
   "outputs": [],
   "source": [
    "\n",
    "pc = Pointclouds(points=p_sorted_pt[0:4])\n",
    "\n",
    "pc_d = {}\n",
    "for idx in range(len(pc.points_list())):\n",
    "    pc_d[idx] = {idx: pc[idx]}\n",
    "\n",
    "fig = plot_scene(\n",
    "    pc_d,\n",
    "    ncols=len(pc.points_list())\n",
    ")\n",
    "fig.show()"
   ]
  },
  {
   "cell_type": "code",
   "execution_count": null,
   "metadata": {},
   "outputs": [],
   "source": []
  }
 ],
 "metadata": {
  "kernelspec": {
   "display_name": "Python 3 (ipykernel)",
   "language": "python",
   "name": "python3"
  },
  "language_info": {
   "codemirror_mode": {
    "name": "ipython",
    "version": 3
   },
   "file_extension": ".py",
   "mimetype": "text/x-python",
   "name": "python",
   "nbconvert_exporter": "python",
   "pygments_lexer": "ipython3",
   "version": "3.10.14"
  }
 },
 "nbformat": 4,
 "nbformat_minor": 2
}

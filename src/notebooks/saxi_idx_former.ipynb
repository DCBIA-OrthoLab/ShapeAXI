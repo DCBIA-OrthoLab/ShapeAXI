{
 "cells": [
  {
   "cell_type": "code",
   "execution_count": null,
   "metadata": {},
   "outputs": [],
   "source": [
    "import os\n",
    "import torch\n",
    "from torch import nn\n",
    "from pytorch3d.io import load_obj, save_obj\n",
    "from pytorch3d.structures import Meshes\n",
    "from pytorch3d.utils import ico_sphere\n",
    "from pytorch3d.ops import sample_points_from_meshes, knn_points, knn_gather\n",
    "from pytorch3d.loss import (\n",
    "    chamfer_distance, \n",
    "    mesh_edge_loss, \n",
    "    mesh_laplacian_smoothing, \n",
    "    mesh_normal_consistency,\n",
    ")\n",
    "import numpy as np\n",
    "from tqdm.notebook import tqdm\n",
    "import plotly.graph_objects as go\n",
    "import plotly.express as px\n",
    "\n",
    "import sys\n",
    "sys.path.append('/mnt/raid/C1_ML_Analysis/source/ShapeAXI/src')\n",
    "from shapeaxi import utils\n",
    "\n",
    "from shapeaxi.saxi_nets import MHAIdxEncoder, MHAIdxDecoder\n",
    "import pandas as pd"
   ]
  },
  {
   "cell_type": "code",
   "execution_count": null,
   "metadata": {},
   "outputs": [],
   "source": [
    "device = torch.device(\"cuda:0\")\n"
   ]
  },
  {
   "cell_type": "code",
   "execution_count": null,
   "metadata": {},
   "outputs": [],
   "source": [
    "# target_fn = '/mnt/famli_netapp_shared/C1_ML_Analysis/src/diffusion-models/blender/studies/placenta/FAM-025-0499-5/brain/leftWhiteMatter.stl'\n",
    "# target = utils.ReadSurf(target_fn)\n",
    "# target, target_mean_bb, target_scale_factor = utils.ScaleSurf(target)\n",
    "# target_v, target_f, target_e = utils.PolyDataToTensors(target, device=device)\n",
    "# target_mesh = Meshes(verts=[target_v], faces=[target_f])"
   ]
  },
  {
   "cell_type": "code",
   "execution_count": null,
   "metadata": {},
   "outputs": [],
   "source": [
    "def plot_pointcloud(mesh, title=\"\"):\n",
    "    points = sample_points_from_meshes(mesh, 5000)\n",
    "    x, y, z = points.clone().detach().cpu().squeeze().unbind(1)    \n",
    "    fig = go.Figure(data=[go.Scatter3d(x=x, y=y, z=z)])\n",
    "    fig.show()"
   ]
  },
  {
   "cell_type": "code",
   "execution_count": null,
   "metadata": {},
   "outputs": [],
   "source": [
    "\n",
    "encoder = MHAIdxEncoder(input_dim=1, output_dim=64, K=[None, None, (96, 32), (96, 32)], num_heads=[None, None, 64, 128], stages=[16, 32, 64, 128], conv_v_kernel_size=[5, 5, 7, 7], dropout=0.1, pooling_factor=[0.125, 0.125, 0.125, 0.125], pooling_hidden_dim=[8, 16, 32, 64], pooling_K=[27, 27, 27, 27], feed_forward_hidden_dim=[8, 16, 32, 64], score_pooling=False, time_embed_dim=128)\n",
    "\n",
    "encoder.to(device)\n",
    "\n",
    "\n"
   ]
  },
  {
   "cell_type": "code",
   "execution_count": null,
   "metadata": {},
   "outputs": [],
   "source": [
    "BS = 6\n",
    "N = 250000\n",
    "X = torch.rand(BS, N, 1).to(device)\n",
    "X_v = torch.rand(BS, N, 3).to(device)\n",
    "# print(x.shape)\n",
    "# x_v_fixed = torch.rand(BS, 10000, 3).to(device)\n",
    "\n",
    "x, unpooling_idxs  = encoder(X, X_v)"
   ]
  },
  {
   "cell_type": "code",
   "execution_count": null,
   "metadata": {},
   "outputs": [],
   "source": [
    "x.shape"
   ]
  },
  {
   "cell_type": "code",
   "execution_count": null,
   "metadata": {},
   "outputs": [],
   "source": [
    "\n",
    "decoder = MHAIdxDecoder(input_dim=64, output_dim=1, K=[(96, 32), (96, 32), None, None], num_heads=[64, 32, None, None], stages=[128, 64, 32, 16], dropout=0.1, pooling_hidden_dim=[64, 32, 16, 8], conv_v_kernel_size=[5, 5, 5, 5], feed_forward_hidden_dim=[64, 32, 16, 8])\n",
    "decoder.to(device)\n",
    "\n",
    "\n"
   ]
  },
  {
   "cell_type": "code",
   "execution_count": null,
   "metadata": {},
   "outputs": [],
   "source": [
    "X_hat = decoder(x, unpooling_idxs)"
   ]
  }
 ],
 "metadata": {
  "kernelspec": {
   "display_name": "Python 3 (ipykernel)",
   "language": "python",
   "name": "python3"
  },
  "language_info": {
   "codemirror_mode": {
    "name": "ipython",
    "version": 3
   },
   "file_extension": ".py",
   "mimetype": "text/x-python",
   "name": "python",
   "nbconvert_exporter": "python",
   "pygments_lexer": "ipython3",
   "version": "3.10.14"
  }
 },
 "nbformat": 4,
 "nbformat_minor": 2
}
